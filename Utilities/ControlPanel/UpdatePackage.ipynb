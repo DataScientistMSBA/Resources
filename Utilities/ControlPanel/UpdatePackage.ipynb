{
 "cells": [
  {
   "cell_type": "markdown",
   "metadata": {},
   "source": [
    "# Delete Old Package Files"
   ]
  },
  {
   "cell_type": "code",
   "execution_count": 3,
   "metadata": {},
   "outputs": [],
   "source": [
    "import os\n",
    "import shutil\n",
    "\n",
    "def delete_files_and_zip():\n",
    "    # Define the relative paths\n",
    "    base_dir = os.path.abspath(os.path.join(os.getcwd(), '..', 'Package'))\n",
    "    package_dir = os.path.join(base_dir, 'my_package')\n",
    "    zip_file_path = os.path.join(base_dir, 'my_package.zip')\n",
    "\n",
    "    # Delete all files in the package_dir\n",
    "    for root, dirs, files in os.walk(package_dir):\n",
    "        for file in files:\n",
    "            file_path = os.path.join(root, file)\n",
    "            os.remove(file_path)\n",
    "            # print(f\"Deleted file: {file_path}\")\n",
    "    \n",
    "    # Remove empty directories if needed\n",
    "    for root, dirs, files in os.walk(package_dir, topdown=False):\n",
    "        for dir in dirs:\n",
    "            dir_path = os.path.join(root, dir)\n",
    "            try:\n",
    "                os.rmdir(dir_path)\n",
    "                # print(f\"Deleted directory: {dir_path}\")\n",
    "            except OSError:\n",
    "                pass  # Directory not empty\n",
    "\n",
    "    # Delete the ZIP file\n",
    "    if os.path.exists(zip_file_path):\n",
    "        os.remove(zip_file_path)\n",
    "        # print(f\"Deleted ZIP file: {zip_file_path}\")\n",
    "\n",
    "# Execute the function\n",
    "delete_files_and_zip()"
   ]
  },
  {
   "cell_type": "markdown",
   "metadata": {},
   "source": [
    "# Provision the Package"
   ]
  },
  {
   "cell_type": "code",
   "execution_count": 4,
   "metadata": {},
   "outputs": [],
   "source": [
    "import os\n",
    "import subprocess\n",
    "import sys\n",
    "\n",
    "# Construct the relative path to provision.ipynb\n",
    "relative_path_to_provision_notebook = os.path.join('..', 'Package', 'provision.ipynb')\n",
    "\n",
    "# Convert the relative path to an absolute path\n",
    "absolute_path_to_provision_notebook = os.path.abspath(relative_path_to_provision_notebook)\n",
    "\n",
    "# Check if the provision notebook exists\n",
    "if not os.path.exists(absolute_path_to_provision_notebook):\n",
    "    print(f\"Notebook not found: {absolute_path_to_provision_notebook}\")\n",
    "    sys.exit(1)\n",
    "\n",
    "# Run the provision notebook using nbconvert silently\n",
    "try:\n",
    "    subprocess.run(\n",
    "        ['jupyter', 'nbconvert', '--to', 'notebook', '--execute', absolute_path_to_provision_notebook, '--inplace'],\n",
    "        check=True,\n",
    "        stdout=subprocess.DEVNULL,  # Suppress standard output\n",
    "        stderr=subprocess.DEVNULL   # Suppress standard error\n",
    "    )\n",
    "except subprocess.CalledProcessError as e:\n",
    "    print(f\"An error occurred while running the notebook: {e}\")\n",
    "    sys.exit(1)"
   ]
  }
 ],
 "metadata": {
  "kernelspec": {
   "display_name": "Python 3",
   "language": "python",
   "name": "python3"
  },
  "language_info": {
   "codemirror_mode": {
    "name": "ipython",
    "version": 3
   },
   "file_extension": ".py",
   "mimetype": "text/x-python",
   "name": "python",
   "nbconvert_exporter": "python",
   "pygments_lexer": "ipython3",
   "version": "3.13.0"
  }
 },
 "nbformat": 4,
 "nbformat_minor": 2
}
