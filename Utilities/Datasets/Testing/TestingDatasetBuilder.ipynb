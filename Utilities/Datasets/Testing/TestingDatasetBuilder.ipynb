{
 "cells": [
  {
   "cell_type": "code",
   "execution_count": 1,
   "metadata": {},
   "outputs": [],
   "source": [
    "import pandas as pd\n",
    "import numpy as np\n",
    "import os\n",
    "\n",
    "def TestData(rows, columns, file_type, intake='', name=None):\n",
    "    \"\"\"\n",
    "    Generates a DataFrame with random integers and saves it as a specified file type.\n",
    "\n",
    "    Parameters:\n",
    "        rows (int): The number of rows in the DataFrame.\n",
    "        columns (int): The number of columns in the DataFrame.\n",
    "        file_type (str): The file type to save as ('csv', 'xlsx', 'parquet', 'json', 'xml').\n",
    "        intake (str): The directory to save the file. Defaults to a relative directory.\n",
    "        name (str): The base name of the file (without extension). Defaults to 'test_' + file_type.lower().\n",
    "\n",
    "    Returns:\n",
    "        str: Path of the saved file if successful, None otherwise.\n",
    "    \"\"\"\n",
    "    # Set default name based on file type if name is not provided\n",
    "    file_type = file_type.lower()\n",
    "    if name is None:\n",
    "        name = f\"test_{file_type}\"\n",
    "    \n",
    "    # Determine the full file path\n",
    "    file_path = os.path.join(intake, f\"{name}.{file_type}\")\n",
    "    \n",
    "    # Generate the DataFrame with random integers and named columns\n",
    "    column_names = [f'Column_{i+1}' for i in range(columns)]  # Use underscores instead of spaces\n",
    "    data = pd.DataFrame(np.random.randint(0, 100, size=(rows, columns)), columns=column_names)\n",
    "    \n",
    "    try:\n",
    "        # Save file in the specified format\n",
    "        if file_type == 'csv':\n",
    "            data.to_csv(file_path, index=False)\n",
    "        elif file_type == 'xlsx':\n",
    "            data.to_excel(file_path, index=False)\n",
    "        elif file_type == 'parquet':\n",
    "            data.to_parquet(file_path, index=False)\n",
    "        elif file_type == 'json':\n",
    "            data.to_json(file_path, orient='records')\n",
    "        elif file_type == 'xml':\n",
    "            # Rename columns to be valid XML tags\n",
    "            valid_xml_columns = [f'Column{i+1}' for i in range(columns)]  # Remove spaces\n",
    "            data.columns = valid_xml_columns\n",
    "            data.to_xml(file_path, index=False)\n",
    "        else:\n",
    "            print(\"Unsupported file type. Choose from: 'csv', 'xlsx', 'parquet', 'json', 'xml'.\")\n",
    "            return None\n",
    "        \n",
    "        print(f\"File saved successfully at {file_path}\")\n",
    "        return file_path\n",
    "    \n",
    "    except Exception as e:\n",
    "        print(\"An error occurred while saving the file:\", e)\n",
    "        return None"
   ]
  },
  {
   "cell_type": "markdown",
   "metadata": {},
   "source": [
    "# Examples"
   ]
  },
  {
   "cell_type": "markdown",
   "metadata": {},
   "source": [
    "## CSV"
   ]
  },
  {
   "cell_type": "code",
   "execution_count": 2,
   "metadata": {},
   "outputs": [
    {
     "name": "stdout",
     "output_type": "stream",
     "text": [
      "File saved successfully at test_csv.csv\n"
     ]
    },
    {
     "data": {
      "text/plain": [
       "'test_csv.csv'"
      ]
     },
     "execution_count": 2,
     "metadata": {},
     "output_type": "execute_result"
    }
   ],
   "source": [
    "TestData(rows=10, columns=5, file_type='CSV')"
   ]
  },
  {
   "cell_type": "markdown",
   "metadata": {},
   "source": [
    "## XLSX"
   ]
  },
  {
   "cell_type": "code",
   "execution_count": 13,
   "metadata": {},
   "outputs": [
    {
     "name": "stdout",
     "output_type": "stream",
     "text": [
      "File saved successfully at test_xlsx.xlsx\n"
     ]
    },
    {
     "data": {
      "text/plain": [
       "'test_xlsx.xlsx'"
      ]
     },
     "execution_count": 13,
     "metadata": {},
     "output_type": "execute_result"
    }
   ],
   "source": [
    "TestData(rows=10, columns=5, file_type='XLSX')"
   ]
  },
  {
   "cell_type": "markdown",
   "metadata": {},
   "source": [
    "## PARQUET"
   ]
  },
  {
   "cell_type": "code",
   "execution_count": 14,
   "metadata": {},
   "outputs": [
    {
     "name": "stdout",
     "output_type": "stream",
     "text": [
      "An error occurred while saving the file: Unable to find a usable engine; tried using: 'pyarrow', 'fastparquet'.\n",
      "A suitable version of pyarrow or fastparquet is required for parquet support.\n",
      "Trying to import the above resulted in these errors:\n",
      " - Missing optional dependency 'pyarrow'. pyarrow is required for parquet support. Use pip or conda to install pyarrow.\n",
      " - Missing optional dependency 'fastparquet'. fastparquet is required for parquet support. Use pip or conda to install fastparquet.\n"
     ]
    }
   ],
   "source": [
    "TestData(rows=10, columns=5, file_type='PARQUET')"
   ]
  },
  {
   "cell_type": "markdown",
   "metadata": {},
   "source": [
    "## JSON"
   ]
  },
  {
   "cell_type": "code",
   "execution_count": 15,
   "metadata": {},
   "outputs": [
    {
     "name": "stdout",
     "output_type": "stream",
     "text": [
      "File saved successfully at test_json.json\n"
     ]
    },
    {
     "data": {
      "text/plain": [
       "'test_json.json'"
      ]
     },
     "execution_count": 15,
     "metadata": {},
     "output_type": "execute_result"
    }
   ],
   "source": [
    "TestData(rows=10, columns=5, file_type='JSON')"
   ]
  },
  {
   "cell_type": "markdown",
   "metadata": {},
   "source": [
    "## XML"
   ]
  },
  {
   "cell_type": "code",
   "execution_count": 16,
   "metadata": {},
   "outputs": [
    {
     "name": "stdout",
     "output_type": "stream",
     "text": [
      "File saved successfully at test_xml.xml\n"
     ]
    },
    {
     "data": {
      "text/plain": [
       "'test_xml.xml'"
      ]
     },
     "execution_count": 16,
     "metadata": {},
     "output_type": "execute_result"
    }
   ],
   "source": [
    "TestData(rows=10, columns=5, file_type='XML')"
   ]
  }
 ],
 "metadata": {
  "kernelspec": {
   "display_name": "Python 3",
   "language": "python",
   "name": "python3"
  },
  "language_info": {
   "codemirror_mode": {
    "name": "ipython",
    "version": 3
   },
   "file_extension": ".py",
   "mimetype": "text/x-python",
   "name": "python",
   "nbconvert_exporter": "python",
   "pygments_lexer": "ipython3",
   "version": "3.13.0"
  }
 },
 "nbformat": 4,
 "nbformat_minor": 2
}
