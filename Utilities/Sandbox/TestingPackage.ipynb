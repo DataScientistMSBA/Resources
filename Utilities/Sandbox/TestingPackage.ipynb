{
 "cells": [
  {
   "cell_type": "markdown",
   "metadata": {},
   "source": [
    "# Provision the Package"
   ]
  },
  {
   "cell_type": "code",
   "execution_count": 1,
   "metadata": {},
   "outputs": [],
   "source": [
    "import os\n",
    "import subprocess\n",
    "import sys\n",
    "\n",
    "# Construct the relative path to provision.ipynb\n",
    "relative_path_to_provision_notebook = os.path.join('..', 'Package', 'provision.ipynb')\n",
    "\n",
    "# Convert the relative path to an absolute path\n",
    "absolute_path_to_provision_notebook = os.path.abspath(relative_path_to_provision_notebook)\n",
    "\n",
    "# Check if the provision notebook exists\n",
    "if not os.path.exists(absolute_path_to_provision_notebook):\n",
    "    print(f\"Notebook not found: {absolute_path_to_provision_notebook}\")\n",
    "    sys.exit(1)\n",
    "\n",
    "# Run the provision notebook using nbconvert silently\n",
    "try:\n",
    "    subprocess.run(\n",
    "        ['jupyter', 'nbconvert', '--to', 'notebook', '--execute', absolute_path_to_provision_notebook, '--inplace'],\n",
    "        check=True,\n",
    "        stdout=subprocess.DEVNULL,  # Suppress standard output\n",
    "        stderr=subprocess.DEVNULL   # Suppress standard error\n",
    "    )\n",
    "except subprocess.CalledProcessError as e:\n",
    "    print(f\"An error occurred while running the notebook: {e}\")\n",
    "    sys.exit(1)\n"
   ]
  },
  {
   "cell_type": "markdown",
   "metadata": {},
   "source": [
    "# Set Location for my_package.zip"
   ]
  },
  {
   "cell_type": "code",
   "execution_count": 2,
   "metadata": {},
   "outputs": [],
   "source": [
    "import os, sys\n",
    "sys.path.append(os.path.abspath(os.path.join(os.getcwd() , '..', 'Package', 'my_package.zip')))"
   ]
  },
  {
   "cell_type": "markdown",
   "metadata": {},
   "source": [
    "# Import the package"
   ]
  },
  {
   "cell_type": "code",
   "execution_count": 3,
   "metadata": {},
   "outputs": [
    {
     "name": "stdout",
     "output_type": "stream",
     "text": [
      "Coming Soon\n"
     ]
    }
   ],
   "source": [
    "from Access.ReadDB import ComingSoon\n",
    "\n",
    "ComingSoon()"
   ]
  },
  {
   "cell_type": "code",
   "execution_count": 4,
   "metadata": {},
   "outputs": [
    {
     "name": "stdout",
     "output_type": "stream",
     "text": [
      "Coming Soon\n"
     ]
    }
   ],
   "source": [
    "from Access.WriteDB import ComingSoon\n",
    "\n",
    "ComingSoon()"
   ]
  },
  {
   "cell_type": "code",
   "execution_count": 5,
   "metadata": {},
   "outputs": [
    {
     "name": "stdout",
     "output_type": "stream",
     "text": [
      "Coming Soon 2\n"
     ]
    }
   ],
   "source": [
    "from Access.WriteDB import ComingSoon2\n",
    "\n",
    "ComingSoon2()"
   ]
  },
  {
   "cell_type": "code",
   "execution_count": null,
   "metadata": {},
   "outputs": [],
   "source": [
    "# import Access.WriteDB\n",
    "# print(dir(Access.WriteDB))"
   ]
  }
 ],
 "metadata": {
  "kernelspec": {
   "display_name": "Python 3",
   "language": "python",
   "name": "python3"
  },
  "language_info": {
   "codemirror_mode": {
    "name": "ipython",
    "version": 3
   },
   "file_extension": ".py",
   "mimetype": "text/x-python",
   "name": "python",
   "nbconvert_exporter": "python",
   "pygments_lexer": "ipython3",
   "version": "3.13.0"
  }
 },
 "nbformat": 4,
 "nbformat_minor": 2
}
