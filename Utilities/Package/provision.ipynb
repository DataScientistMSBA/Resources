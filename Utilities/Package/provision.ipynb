{
 "cells": [
  {
   "cell_type": "markdown",
   "metadata": {},
   "source": [
    "# Convert to Python"
   ]
  },
  {
   "cell_type": "code",
   "execution_count": 1,
   "metadata": {
    "execution": {
     "iopub.execute_input": "2024-10-28T17:12:02.745359Z",
     "iopub.status.busy": "2024-10-28T17:12:02.745094Z",
     "iopub.status.idle": "2024-10-28T17:12:13.930689Z",
     "shell.execute_reply": "2024-10-28T17:12:13.929877Z"
    }
   },
   "outputs": [
    {
     "name": "stdout",
     "output_type": "stream",
     "text": [
      "Finished converting files from .ipynb to .py\n"
     ]
    }
   ],
   "source": [
    "import os\n",
    "import json\n",
    "from nbconvert import PythonExporter\n",
    "import nbformat\n",
    "\n",
    "# Directories using relative paths\n",
    "current_directory = os.getcwd()\n",
    "src_directory = os.path.join(current_directory, '..', 'Package', 'notebooks')\n",
    "dest_directory = os.path.join(current_directory, '..', 'Package', 'my_package')\n",
    "\n",
    "# Function to check if a file is valid JSON\n",
    "def is_valid_json(filepath):\n",
    "    try:\n",
    "        with open(filepath, 'r', encoding='utf-8') as file:\n",
    "            json.load(file)\n",
    "        return True\n",
    "    except (ValueError, json.JSONDecodeError):\n",
    "        return False\n",
    "\n",
    "# Function to convert .ipynb to .py and clean up the output\n",
    "def convert_notebook_to_script(notebook_path, script_path):\n",
    "    try:\n",
    "        with open(notebook_path, 'r', encoding='utf-8') as notebook_file:\n",
    "            notebook_content = nbformat.read(notebook_file, as_version=4)\n",
    "        python_exporter = PythonExporter()\n",
    "        script, _ = python_exporter.from_notebook_node(notebook_content)\n",
    "\n",
    "        # Clean up the script\n",
    "        lines = script.split('\\n')\n",
    "        cleaned_lines = [line for line in lines if not line.startswith('#!') and not line.startswith('# In')]\n",
    "\n",
    "        with open(script_path, 'w', encoding='utf-8') as script_file:\n",
    "            script_file.write('\\n'.join(cleaned_lines))\n",
    "    except Exception as e:\n",
    "        print(f\"Failed to convert {notebook_path}: {e}\")\n",
    "\n",
    "# Walk through the source directory\n",
    "for root, dirs, files in os.walk(src_directory):\n",
    "    for file in files:\n",
    "        if file.endswith(\".ipynb\"):\n",
    "            notebook_path = os.path.join(root, file)\n",
    "            if os.path.getsize(notebook_path) > 0 and is_valid_json(notebook_path):\n",
    "                relative_path = os.path.relpath(root, src_directory)\n",
    "                script_dest_directory = os.path.join(dest_directory, relative_path)\n",
    "                script_file_name = file.replace(\".ipynb\", \".py\")\n",
    "                script_path = os.path.join(script_dest_directory, script_file_name)\n",
    "\n",
    "                # Create the destination directory if it doesn't exist\n",
    "                os.makedirs(script_dest_directory, exist_ok=True)\n",
    "\n",
    "                # Convert the notebook and write to the destination\n",
    "                convert_notebook_to_script(notebook_path, script_path)\n",
    "                # print(f\"Converted {notebook_path} to {script_path}\")\n",
    "            else:\n",
    "                print(f\"Skipped {notebook_path}: not a valid JSON file or empty\")\n",
    "\n",
    "print(\"Finished converting files from .ipynb to .py\")\n"
   ]
  },
  {
   "cell_type": "markdown",
   "metadata": {},
   "source": [
    "# Create Root Main File"
   ]
  },
  {
   "cell_type": "code",
   "execution_count": 2,
   "metadata": {
    "execution": {
     "iopub.execute_input": "2024-10-28T17:12:13.953354Z",
     "iopub.status.busy": "2024-10-28T17:12:13.953102Z",
     "iopub.status.idle": "2024-10-28T17:12:13.957418Z",
     "shell.execute_reply": "2024-10-28T17:12:13.957068Z"
    }
   },
   "outputs": [
    {
     "name": "stdout",
     "output_type": "stream",
     "text": [
      "Finished creating root main.py file\n"
     ]
    }
   ],
   "source": [
    "import os\n",
    "\n",
    "# Define the directory paths\n",
    "current_directory = os.getcwd()\n",
    "package_dir = os.path.join(current_directory, '..', 'Package', 'my_package')\n",
    "main_file_path = os.path.join(package_dir, \"main.py\")  # Place main.py in the my_package directory\n",
    "\n",
    "# Function to create the content for the main.py file\n",
    "def create_main_file():\n",
    "    # Get the list of folders inside the package_dir, excluding __pycache__\n",
    "    folders = [f for f in os.listdir(package_dir) if os.path.isdir(os.path.join(package_dir, f)) and f != '__pycache__']\n",
    "    \n",
    "    # Start writing the main.py content\n",
    "    with open(main_file_path, 'w', encoding='utf-8') as main_file:\n",
    "        for folder in folders:\n",
    "            # Replace spaces in folder names for imports\n",
    "            import_statement = f\"from .{folder.replace(' ', '_').replace('-', '_')} import *\\n\"\n",
    "            main_file.write(import_statement)\n",
    "\n",
    "# Run the function to create the main.py file\n",
    "if __name__ == \"__main__\":\n",
    "    create_main_file()\n",
    "\n",
    "print('Finished creating root main.py file')"
   ]
  },
  {
   "cell_type": "markdown",
   "metadata": {},
   "source": [
    "# Zip Package"
   ]
  },
  {
   "cell_type": "code",
   "execution_count": 3,
   "metadata": {
    "execution": {
     "iopub.execute_input": "2024-10-28T17:12:13.959893Z",
     "iopub.status.busy": "2024-10-28T17:12:13.959631Z",
     "iopub.status.idle": "2024-10-28T17:12:14.086036Z",
     "shell.execute_reply": "2024-10-28T17:12:14.085674Z"
    }
   },
   "outputs": [],
   "source": [
    "import os\n",
    "import shutil\n",
    "import sys\n",
    "\n",
    "# Suppress output\n",
    "original_stdout = sys.stdout\n",
    "sys.stdout = open(os.devnull, 'w')\n",
    "\n",
    "# Define the directory to be zipped and the output ZIP file path\n",
    "current_directory = os.getcwd()\n",
    "source_dir = os.path.join(current_directory, '..', 'Package', 'my_package')\n",
    "zip_file_path = os.path.join(current_directory, '..', 'Package', 'my_package.zip')\n",
    "\n",
    "# Create a ZIP file from the source directory\n",
    "shutil.make_archive(zip_file_path[:-4], 'zip', source_dir)\n",
    "\n",
    "# Restore standard output\n",
    "sys.stdout.close()\n",
    "sys.stdout = original_stdout\n"
   ]
  }
 ],
 "metadata": {
  "kernelspec": {
   "display_name": "Python 3",
   "language": "python",
   "name": "python3"
  },
  "language_info": {
   "codemirror_mode": {
    "name": "ipython",
    "version": 3
   },
   "file_extension": ".py",
   "mimetype": "text/x-python",
   "name": "python",
   "nbconvert_exporter": "python",
   "pygments_lexer": "ipython3",
   "version": "3.13.0"
  }
 },
 "nbformat": 4,
 "nbformat_minor": 2
}
