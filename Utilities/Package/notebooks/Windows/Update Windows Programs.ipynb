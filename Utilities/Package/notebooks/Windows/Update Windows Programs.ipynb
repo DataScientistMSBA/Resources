{
 "cells": [
  {
   "cell_type": "markdown",
   "metadata": {},
   "source": [
    "# View All Upgradable Programs"
   ]
  },
  {
   "cell_type": "code",
   "execution_count": 4,
   "metadata": {},
   "outputs": [],
   "source": [
    "import subprocess\n",
    "\n",
    "def upgrade_all_packages():\n",
    "    try:\n",
    "        # Start the command with Popen\n",
    "        process = subprocess.Popen(['winget', 'upgrade'],\n",
    "                                   stdin=subprocess.PIPE,\n",
    "                                   stdout=subprocess.PIPE,\n",
    "                                   stderr=subprocess.PIPE,\n",
    "                                   text=True)\n",
    "\n",
    "        # Send 'Y' as input to the command\n",
    "        stdout, stderr = process.communicate(input='Y\\n')\n",
    "\n",
    "        # Filter the output to include only relevant lines\n",
    "        output_lines = stdout.splitlines()\n",
    "        filtered_output = [\n",
    "            line for line in output_lines \n",
    "            if line.strip() and not line.strip().startswith(('-', '\\\\', '|'))  # Exclude lines with visual characters\n",
    "        ]\n",
    "\n",
    "        # Print the filtered output\n",
    "        for line in filtered_output:\n",
    "            print(line)\n",
    "\n",
    "        if stderr:\n",
    "            print(\"Errors:\", stderr.strip())\n",
    "\n",
    "    except Exception as e:\n",
    "        print(\"An error occurred while upgrading packages:\", e)\n",
    "\n",
    "if __name__ == \"__main__\":\n",
    "    upgrade_all_packages()"
   ]
  },
  {
   "cell_type": "markdown",
   "metadata": {},
   "source": [
    "# Upgrade All Programs"
   ]
  },
  {
   "cell_type": "code",
   "execution_count": 5,
   "metadata": {},
   "outputs": [],
   "source": [
    "import subprocess\n",
    "\n",
    "def upgrade_all():\n",
    "    try:\n",
    "        # Run the command\n",
    "        subprocess.run([\"winget\", \"upgrade\", \"--all\"], check=True)\n",
    "        print(\"Upgrade completed successfully.\")\n",
    "    except subprocess.CalledProcessError as e:\n",
    "        print(f\"An error occurred: {e}\")\n",
    "\n",
    "if __name__ == \"__main__\":\n",
    "    upgrade_all()"
   ]
  }
 ],
 "metadata": {
  "kernelspec": {
   "display_name": "Python 3",
   "language": "python",
   "name": "python3"
  },
  "language_info": {
   "codemirror_mode": {
    "name": "ipython",
    "version": 3
   },
   "file_extension": ".py",
   "mimetype": "text/x-python",
   "name": "python",
   "nbconvert_exporter": "python",
   "pygments_lexer": "ipython3",
   "version": "3.13.0"
  }
 },
 "nbformat": 4,
 "nbformat_minor": 2
}
