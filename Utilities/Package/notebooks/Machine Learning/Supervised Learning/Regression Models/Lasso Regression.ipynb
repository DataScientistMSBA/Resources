{
 "cells": [
  {
   "cell_type": "markdown",
   "metadata": {},
   "source": [
    "# Lasso Regression"
   ]
  },
  {
   "cell_type": "markdown",
   "metadata": {},
   "source": [
    "Lasso Regression (Least Absolute Shrinkage and Selection Operator) is a type of linear regression that includes a regularization term. This regularization helps prevent overfitting and encourages simpler models, making it especially useful in datasets with many features, some of which may be irrelevant or redundant.\n",
    "\n",
    "Key Concepts\n",
    "1. Regularization\n",
    "Unlike standard linear regression, which minimizes the sum of squared errors, Lasso introduces a penalty term that discourages large coefficients. This penalty term helps control model complexity and can lead to better generalization on unseen data.\n",
    "\n",
    "2. L1 Regularization (Lasso Penalty)\n",
    "Lasso uses L1 regularization, which means it can shrink some coefficients to zero. This differs from Ridge Regression, which uses L2 regularization. The ability to zero out coefficients allows Lasso to act as a form of feature selection, keeping only the most influential predictors in the model.\n",
    "\n",
    "3. Automatic Feature Selection\n",
    "By forcing some coefficients to zero, Lasso effectively performs automatic feature selection. This is especially helpful in high-dimensional datasets where many features may be irrelevant.\n",
    "\n",
    "4. Bias-Variance Tradeoff\n",
    "By adding regularization, Lasso introduces a bit of bias but reduces variance, resulting in a model that is less likely to overfit and is more robust on new data.\n",
    "\n",
    "When to Use Lasso Regression\n",
    "- High-dimensional data: Lasso is ideal when you have more features than observations or a large number of features, as it can reduce model complexity by selecting only the most relevant ones.\n",
    "- Feature selection: If you need to interpret which features impact the target most, Lasso simplifies the model by eliminating less relevant features.\n",
    "- Risk of overfitting: The added regularization helps prevent overfitting, especially in cases with limited data or complex models.\n",
    "Limitations\n",
    "- Collinearity: Lasso can struggle with highly correlated features, as it may arbitrarily keep one feature while zeroing out others.\n",
    "- Small datasets: Regularization introduces some bias, which may lead to underfitting if the dataset is very small.\n",
    "- Interpretability: If the regularization strength is too high, too many coefficients may be set to zero, making the model challenging to interpret.\n",
    "\n",
    "Summary\n",
    "- Lasso Regression is a powerful tool for regression, particularly with high-dimensional data or when feature selection is desired. Its regularization properties and ability to zero out coefficients make it a popular choice in machine learning."
   ]
  },
  {
   "cell_type": "markdown",
   "metadata": {},
   "source": [
    "# Function"
   ]
  },
  {
   "cell_type": "code",
   "execution_count": 1,
   "metadata": {},
   "outputs": [],
   "source": [
    "from sklearn.linear_model import Lasso\n",
    "from sklearn.metrics import mean_squared_error, r2_score\n",
    "from sklearn.model_selection import train_test_split\n",
    "\n",
    "def LassoRegression(X, y, alpha=1.0, test_size=0.2, random_state=None):\n",
    "    \"\"\"\n",
    "    Performs Lasso regression on a dataset.\n",
    "\n",
    "    Parameters:\n",
    "        X (array-like): Feature matrix.\n",
    "        y (array-like): Target variable.\n",
    "        alpha (float): Regularization strength; must be a positive float. Default is 1.0.\n",
    "        test_size (float): Proportion of the dataset to include in the test split.\n",
    "        random_state (int): Random state for reproducibility.\n",
    "\n",
    "    Returns:\n",
    "        dict: A dictionary containing the trained model, mean squared error, and R^2 score for both training and testing sets.\n",
    "    \"\"\"\n",
    "    # Split the data into training and testing sets\n",
    "    X_train, X_test, y_train, y_test = train_test_split(X, y, test_size=test_size, random_state=random_state)\n",
    "\n",
    "    # Initialize and train the Lasso model\n",
    "    lasso_model = Lasso(alpha=alpha, random_state=random_state)\n",
    "    lasso_model.fit(X_train, y_train)\n",
    "\n",
    "    # Make predictions on both training and testing sets\n",
    "    y_train_pred = lasso_model.predict(X_train)\n",
    "    y_test_pred = lasso_model.predict(X_test)\n",
    "\n",
    "    # Calculate metrics\n",
    "    train_mse = mean_squared_error(y_train, y_train_pred)\n",
    "    test_mse = mean_squared_error(y_test, y_test_pred)\n",
    "    train_r2 = r2_score(y_train, y_train_pred)\n",
    "    test_r2 = r2_score(y_test, y_test_pred)\n",
    "\n",
    "    # Return the results\n",
    "    return {\n",
    "        \"model\": lasso_model,\n",
    "        \"train_mse\": train_mse,\n",
    "        \"test_mse\": test_mse,\n",
    "        \"train_r2\": train_r2,\n",
    "        \"test_r2\": test_r2\n",
    "    }"
   ]
  },
  {
   "cell_type": "markdown",
   "metadata": {},
   "source": [
    "# Examples"
   ]
  },
  {
   "cell_type": "code",
   "execution_count": 2,
   "metadata": {},
   "outputs": [
    {
     "name": "stdout",
     "output_type": "stream",
     "text": [
      "Train MSE: 1.4046760545308214\n",
      "Test MSE: 1.3113400182247088\n",
      "Train R^2: 0.999927759212041\n",
      "Test R^2: 0.9999347012651593\n"
     ]
    }
   ],
   "source": [
    "from sklearn.datasets import make_regression\n",
    "\n",
    "# Generate synthetic regression data\n",
    "X, y = make_regression(n_samples=100, n_features=5, noise=0.1, random_state=42)\n",
    "\n",
    "# Run Lasso Regression\n",
    "results = LassoRegression(X, y, alpha=0.5, test_size=0.2, random_state=42)\n",
    "\n",
    "# Output results\n",
    "print(\"Train MSE:\", results[\"train_mse\"])\n",
    "print(\"Test MSE:\", results[\"test_mse\"])\n",
    "print(\"Train R^2:\", results[\"train_r2\"])\n",
    "print(\"Test R^2:\", results[\"test_r2\"])\n"
   ]
  },
  {
   "cell_type": "markdown",
   "metadata": {},
   "source": [
    "# Explanation"
   ]
  },
  {
   "cell_type": "markdown",
   "metadata": {},
   "source": [
    "The output from running the LassoRegression function provides four key metrics:\n",
    "\n",
    "1. Train MSE (Mean Squared Error): The average squared difference between the predicted and actual target values on the training set.\n",
    "2. Test MSE: The same measure but on the test set. Lower MSE values indicate that the model’s predictions are closer to the actual values.\n",
    "3. Train R² (Coefficient of Determination): A measure of how well the model explains the variance in the target variable on the training set. Values closer to 1 indicate a better fit.\n",
    "4. Test R²: The R² score on the test set. This value also ranges between 0 and 1, where values closer to 1 indicate a better generalization to unseen data.\n",
    "\n",
    "Interpreting the Results\n",
    "1. Training vs. Testing MSE:\n",
    "\n",
    "    - If the Train MSE is significantly lower than the Test MSE, this suggests that the model may be overfitting. It’s performing well on the training data but not generalizing well to new data.\n",
    "    - If both Train MSE and Test MSE are relatively close and low, this indicates a good fit, meaning the model generalizes well.\n",
    "    - If both values are high, it suggests underfitting, where the model is too simple to capture patterns in the data.\n",
    "2. Training vs. Testing R²:\n",
    "\n",
    "    - A high Train R² close to 1 and a lower Test R² suggest that the model is overfitting.\n",
    "    - If Train R² and Test R² are close and reasonably high, it indicates the model fits the data well without overfitting.\n",
    "    - If both R² values are low, the model is underfitting, meaning it doesn’t explain much of the variance in the target.\n",
    "3. Specific Analysis\n",
    "    - Lasso Regularization Effect: If Lasso’s regularization (controlled by alpha) is set appropriately, it will prevent overfitting, keeping Train and Test MSE and R² values close to each other.\n",
    "    - Feature Selection: With a suitable alpha, Lasso can reduce the impact of irrelevant or redundant features by shrinking their coefficients to zero, focusing only on the most influential features.\n",
    "In summary, these metrics allow you to assess whether the model is overfitting, underfitting, or achieving a balanced fit. Adjusting alpha and other parameters based on these results can improve model performance."
   ]
  }
 ],
 "metadata": {
  "kernelspec": {
   "display_name": "Python 3",
   "language": "python",
   "name": "python3"
  },
  "language_info": {
   "codemirror_mode": {
    "name": "ipython",
    "version": 3
   },
   "file_extension": ".py",
   "mimetype": "text/x-python",
   "name": "python",
   "nbconvert_exporter": "python",
   "pygments_lexer": "ipython3",
   "version": "3.13.0"
  }
 },
 "nbformat": 4,
 "nbformat_minor": 2
}
