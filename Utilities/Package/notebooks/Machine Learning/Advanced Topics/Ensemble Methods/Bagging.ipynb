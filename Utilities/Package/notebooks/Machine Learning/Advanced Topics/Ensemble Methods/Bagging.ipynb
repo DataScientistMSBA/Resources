{
 "cells": [
  {
   "cell_type": "code",
   "execution_count": null,
   "metadata": {},
   "outputs": [],
   "source": [
    "def ComingSoon():\n",
    "    print(\"Coming Soon\")\n",
    "    return"
   ]
  },
  {
   "cell_type": "markdown",
   "metadata": {},
   "source": [
    "# Function"
   ]
  },
  {
   "cell_type": "code",
   "execution_count": null,
   "metadata": {},
   "outputs": [],
   "source": [
    "from sklearn.ensemble import BaggingClassifier\n",
    "from sklearn.tree import DecisionTreeClassifier\n",
    "from sklearn.metrics import accuracy_score, classification_report\n",
    "from sklearn.model_selection import train_test_split\n",
    "\n",
    "def Bagging(X, y, base_model=None, n_estimators=10, max_samples=1.0, max_features=1.0, test_size=0.2, random_state=None):\n",
    "    \"\"\"\n",
    "    Performs bagging ensemble classification on a dataset.\n",
    "\n",
    "    Parameters:\n",
    "        X (array-like): Feature matrix.\n",
    "        y (array-like): Target labels.\n",
    "        base_model (estimator): The base model to use for bagging (default is DecisionTreeClassifier).\n",
    "        n_estimators (int): Number of estimators in the ensemble.\n",
    "        max_samples (float): Maximum samples to draw from X for each base estimator.\n",
    "        max_features (float): Maximum features to draw from X for each base estimator.\n",
    "        test_size (float): Proportion of the dataset to include in the test split.\n",
    "        random_state (int): Random state for reproducibility.\n",
    "\n",
    "    Returns:\n",
    "        dict: A dictionary containing the trained model, accuracy, and classification report.\n",
    "    \"\"\"\n",
    "    # Use a decision tree as the default base model if none is provided\n",
    "    if base_model is None:\n",
    "        base_model = DecisionTreeClassifier()\n",
    "\n",
    "    # Split the data into training and testing sets\n",
    "    X_train, X_test, y_train, y_test = train_test_split(X, y, test_size=test_size, random_state=random_state)\n",
    "\n",
    "    # Initialize the BaggingClassifier with the specified parameters\n",
    "    bagging_model = BaggingClassifier(\n",
    "        estimator=base_model,  # Correctly using 'estimator' instead of 'base_estimator'\n",
    "        n_estimators=n_estimators,\n",
    "        max_samples=max_samples,\n",
    "        max_features=max_features,\n",
    "        random_state=random_state\n",
    "    )\n",
    "\n",
    "    # Train the bagging model\n",
    "    bagging_model.fit(X_train, y_train)\n",
    "\n",
    "    # Make predictions and evaluate the model\n",
    "    y_pred = bagging_model.predict(X_test)\n",
    "    accuracy = accuracy_score(y_test, y_pred)\n",
    "    report = classification_report(y_test, y_pred)\n",
    "\n",
    "    # Return the results\n",
    "    return {\n",
    "        \"model\": bagging_model,\n",
    "        \"accuracy\": accuracy,\n",
    "        \"classification_report\": report\n",
    "    }"
   ]
  },
  {
   "cell_type": "markdown",
   "metadata": {},
   "source": [
    "# Examples"
   ]
  },
  {
   "cell_type": "code",
   "execution_count": 8,
   "metadata": {},
   "outputs": [
    {
     "ename": "TypeError",
     "evalue": "BaggingClassifier.__init__() got an unexpected keyword argument 'base_estimator'",
     "output_type": "error",
     "traceback": [
      "\u001b[1;31m---------------------------------------------------------------------------\u001b[0m",
      "\u001b[1;31mTypeError\u001b[0m                                 Traceback (most recent call last)",
      "Cell \u001b[1;32mIn[8], line 63\u001b[0m\n\u001b[0;32m     60\u001b[0m X, y \u001b[38;5;241m=\u001b[39m data\u001b[38;5;241m.\u001b[39mdata, data\u001b[38;5;241m.\u001b[39mtarget\n\u001b[0;32m     62\u001b[0m \u001b[38;5;66;03m# Run the Bagging function\u001b[39;00m\n\u001b[1;32m---> 63\u001b[0m results \u001b[38;5;241m=\u001b[39m \u001b[43mBagging\u001b[49m\u001b[43m(\u001b[49m\u001b[43mX\u001b[49m\u001b[43m,\u001b[49m\u001b[43m \u001b[49m\u001b[43my\u001b[49m\u001b[43m,\u001b[49m\u001b[43m \u001b[49m\u001b[43mn_estimators\u001b[49m\u001b[38;5;241;43m=\u001b[39;49m\u001b[38;5;241;43m15\u001b[39;49m\u001b[43m,\u001b[49m\u001b[43m \u001b[49m\u001b[43mmax_samples\u001b[49m\u001b[38;5;241;43m=\u001b[39;49m\u001b[38;5;241;43m0.8\u001b[39;49m\u001b[43m,\u001b[49m\u001b[43m \u001b[49m\u001b[43mrandom_state\u001b[49m\u001b[38;5;241;43m=\u001b[39;49m\u001b[38;5;241;43m42\u001b[39;49m\u001b[43m)\u001b[49m\n\u001b[0;32m     65\u001b[0m \u001b[38;5;66;03m# Output results\u001b[39;00m\n\u001b[0;32m     66\u001b[0m \u001b[38;5;28mprint\u001b[39m(\u001b[38;5;124m\"\u001b[39m\u001b[38;5;124mAccuracy:\u001b[39m\u001b[38;5;124m\"\u001b[39m, results[\u001b[38;5;124m\"\u001b[39m\u001b[38;5;124maccuracy\u001b[39m\u001b[38;5;124m\"\u001b[39m])\n",
      "Cell \u001b[1;32mIn[8], line 35\u001b[0m, in \u001b[0;36mBagging\u001b[1;34m(X, y, base_model, n_estimators, max_samples, max_features, test_size, random_state)\u001b[0m\n\u001b[0;32m     32\u001b[0m X_train, X_test, y_train, y_test \u001b[38;5;241m=\u001b[39m train_test_split(X, y, test_size\u001b[38;5;241m=\u001b[39mtest_size, random_state\u001b[38;5;241m=\u001b[39mrandom_state)\n\u001b[0;32m     34\u001b[0m \u001b[38;5;66;03m# Initialize the BaggingClassifier with the specified parameters\u001b[39;00m\n\u001b[1;32m---> 35\u001b[0m bagging_model \u001b[38;5;241m=\u001b[39m \u001b[43mBaggingClassifier\u001b[49m\u001b[43m(\u001b[49m\n\u001b[0;32m     36\u001b[0m \u001b[43m    \u001b[49m\u001b[43mbase_estimator\u001b[49m\u001b[38;5;241;43m=\u001b[39;49m\u001b[43mbase_model\u001b[49m\u001b[43m,\u001b[49m\n\u001b[0;32m     37\u001b[0m \u001b[43m    \u001b[49m\u001b[43mn_estimators\u001b[49m\u001b[38;5;241;43m=\u001b[39;49m\u001b[43mn_estimators\u001b[49m\u001b[43m,\u001b[49m\n\u001b[0;32m     38\u001b[0m \u001b[43m    \u001b[49m\u001b[43mmax_samples\u001b[49m\u001b[38;5;241;43m=\u001b[39;49m\u001b[43mmax_samples\u001b[49m\u001b[43m,\u001b[49m\n\u001b[0;32m     39\u001b[0m \u001b[43m    \u001b[49m\u001b[43mmax_features\u001b[49m\u001b[38;5;241;43m=\u001b[39;49m\u001b[43mmax_features\u001b[49m\u001b[43m,\u001b[49m\n\u001b[0;32m     40\u001b[0m \u001b[43m    \u001b[49m\u001b[43mrandom_state\u001b[49m\u001b[38;5;241;43m=\u001b[39;49m\u001b[43mrandom_state\u001b[49m\n\u001b[0;32m     41\u001b[0m \u001b[43m\u001b[49m\u001b[43m)\u001b[49m\n\u001b[0;32m     43\u001b[0m \u001b[38;5;66;03m# Train the bagging model\u001b[39;00m\n\u001b[0;32m     44\u001b[0m bagging_model\u001b[38;5;241m.\u001b[39mfit(X_train, y_train)\n",
      "\u001b[1;31mTypeError\u001b[0m: BaggingClassifier.__init__() got an unexpected keyword argument 'base_estimator'"
     ]
    }
   ],
   "source": [
    "# Import necessary libraries\n",
    "import numpy as np\n",
    "from sklearn.ensemble import BaggingClassifier\n",
    "from sklearn.tree import DecisionTreeClassifier\n",
    "from sklearn.metrics import accuracy_score, classification_report\n",
    "from sklearn.model_selection import train_test_split\n",
    "from sklearn.datasets import load_iris  # Example dataset\n",
    "\n",
    "# Define the Bagging function\n",
    "def Bagging(X, y, base_model=None, n_estimators=10, max_samples=1.0, max_features=1.0, test_size=0.2, random_state=None):\n",
    "    \"\"\"\n",
    "    Performs bagging ensemble classification on a dataset.\n",
    "\n",
    "    Parameters:\n",
    "        X (array-like): Feature matrix.\n",
    "        y (array-like): Target labels.\n",
    "        base_model (estimator): The base model to use for bagging (default is DecisionTreeClassifier).\n",
    "        n_estimators (int): Number of estimators in the ensemble.\n",
    "        max_samples (float): Maximum samples to draw from X for each base estimator.\n",
    "        max_features (float): Maximum features to draw from X for each base estimator.\n",
    "        test_size (float): Proportion of the dataset to include in the test split.\n",
    "        random_state (int): Random state for reproducibility.\n",
    "\n",
    "    Returns:\n",
    "        dict: A dictionary containing the trained model, accuracy, and classification report.\n",
    "    \"\"\"\n",
    "    # Use a decision tree as the default base model if none is provided\n",
    "    if base_model is None:\n",
    "        base_model = DecisionTreeClassifier()\n",
    "\n",
    "    # Split the data into training and testing sets\n",
    "    X_train, X_test, y_train, y_test = train_test_split(X, y, test_size=test_size, random_state=random_state)\n",
    "\n",
    "    # Initialize the BaggingClassifier with the specified parameters\n",
    "    bagging_model = BaggingClassifier(\n",
    "        base_estimator=base_model,\n",
    "        n_estimators=n_estimators,\n",
    "        max_samples=max_samples,\n",
    "        max_features=max_features,\n",
    "        random_state=random_state\n",
    "    )\n",
    "\n",
    "    # Train the bagging model\n",
    "    bagging_model.fit(X_train, y_train)\n",
    "\n",
    "    # Make predictions and evaluate the model\n",
    "    y_pred = bagging_model.predict(X_test)\n",
    "    accuracy = accuracy_score(y_test, y_pred)\n",
    "    report = classification_report(y_test, y_pred)\n",
    "\n",
    "    # Return the results\n",
    "    return {\n",
    "        \"model\": bagging_model,\n",
    "        \"accuracy\": accuracy,\n",
    "        \"classification_report\": report\n",
    "    }\n",
    "\n",
    "# Load example data\n",
    "data = load_iris()\n",
    "X, y = data.data, data.target\n",
    "\n",
    "# Run the Bagging function\n",
    "results = Bagging(X, y, n_estimators=15, max_samples=0.8, random_state=42)\n",
    "\n",
    "# Output results\n",
    "print(\"Accuracy:\", results[\"accuracy\"])\n",
    "print(\"Classification Report:\\n\", results[\"classification_report\"])"
   ]
  }
 ],
 "metadata": {
  "kernelspec": {
   "display_name": "Python 3",
   "language": "python",
   "name": "python3"
  },
  "language_info": {
   "codemirror_mode": {
    "name": "ipython",
    "version": 3
   },
   "file_extension": ".py",
   "mimetype": "text/x-python",
   "name": "python",
   "nbconvert_exporter": "python",
   "pygments_lexer": "ipython3",
   "version": "3.13.0"
  }
 },
 "nbformat": 4,
 "nbformat_minor": 2
}
