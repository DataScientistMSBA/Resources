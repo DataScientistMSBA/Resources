{
 "cells": [
  {
   "cell_type": "markdown",
   "metadata": {},
   "source": [
    "## Standard Imports"
   ]
  },
  {
   "cell_type": "code",
   "execution_count": null,
   "metadata": {},
   "outputs": [],
   "source": [
    "import subprocess\n",
    "import json\n",
    "import os\n",
    "import sys\n",
    "import time\n",
    "import re\n",
    "import json"
   ]
  },
  {
   "cell_type": "markdown",
   "metadata": {},
   "source": [
    "# Aliased Imports"
   ]
  },
  {
   "cell_type": "code",
   "execution_count": null,
   "metadata": {},
   "outputs": [],
   "source": [
    "import pandas as pd\n",
    "import numpy as np\n",
    "import tkinter as tk"
   ]
  },
  {
   "cell_type": "markdown",
   "metadata": {},
   "source": [
    "# Specific Element Imports"
   ]
  },
  {
   "cell_type": "code",
   "execution_count": null,
   "metadata": {},
   "outputs": [],
   "source": [
    "from tkinter import messagebox"
   ]
  },
  {
   "cell_type": "code",
   "execution_count": null,
   "metadata": {},
   "outputs": [],
   "source": []
  },
  {
   "cell_type": "markdown",
   "metadata": {},
   "source": [
    "# Import Functions from Workbooks"
   ]
  },
  {
   "cell_type": "code",
   "execution_count": 3,
   "metadata": {},
   "outputs": [],
   "source": [
    "import os; os.chdir(os.sep.join(os.getcwd().split(os.sep)[:os.getcwd().split(os.sep).index('Package') + 1]))\n",
    "\n",
    "try:\n",
    "    %run \"notebooks/Python/Configuration/UpdatePackages.ipynb\"\n",
    "except:\n",
    "    %run \"scripts/Python/Configuration/UpdatePackages.py\"\n",
    "\n",
    "try:\n",
    "    %run \"notebooks/Python/Configuration/PackageInstaller.ipynb\"\n",
    "except:\n",
    "    %run \"scripts/Python/Configuration/PackageInstaller.py\"\n",
    "\n",
    "try:\n",
    "    %run \"notebooks/Access/ReadDB.ipynb\"\n",
    "except:\n",
    "    %run \"scripts/Access/ReadDB.py\"\n",
    "\n",
    "try:\n",
    "    %run \"notebooks/Access/WriteDB.ipynb\"\n",
    "except:\n",
    "    %run \"scripts/Access/WriteDB.py\""
   ]
  },
  {
   "cell_type": "code",
   "execution_count": 2,
   "metadata": {},
   "outputs": [],
   "source": []
  }
 ],
 "metadata": {
  "kernelspec": {
   "display_name": "Python 3",
   "language": "python",
   "name": "python3"
  },
  "language_info": {
   "codemirror_mode": {
    "name": "ipython",
    "version": 3
   },
   "file_extension": ".py",
   "mimetype": "text/x-python",
   "name": "python",
   "nbconvert_exporter": "python",
   "pygments_lexer": "ipython3",
   "version": "3.13.0"
  }
 },
 "nbformat": 4,
 "nbformat_minor": 2
}
