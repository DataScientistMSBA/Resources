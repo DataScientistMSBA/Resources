{
 "cells": [
  {
   "cell_type": "code",
   "execution_count": 4,
   "metadata": {},
   "outputs": [],
   "source": [
    "def OutdatedPackages():\n",
    "    \"\"\"Function to retrieve the list of outdated packages.\"\"\"\n",
    "    result = subprocess.run(['pip', 'list', '--outdated', '--format', 'json'], stdout=subprocess.PIPE)\n",
    "    outdated_packages = json.loads(result.stdout)\n",
    "    return outdated_packages\n",
    "\n",
    "def UpdatePackages():\n",
    "    \"\"\"Function to update pip and all outdated packages using the list from OutdatedPackages().\"\"\"\n",
    "    # Update pip first\n",
    "    print(\"Checking for pip updates...\")\n",
    "    subprocess.run(['pip', 'install', '--upgrade', 'pip'])\n",
    "\n",
    "    # Get outdated packages\n",
    "    outdated_packages = OutdatedPackages()\n",
    "\n",
    "    print(\"Outdated Packages:\")\n",
    "    for package in outdated_packages:\n",
    "        print(f\"{package['name']} ({package['version']}) -> {package['latest_version']}\")\n",
    "\n",
    "    # Update each outdated package with progress bar\n",
    "    for package in outdated_packages:\n",
    "        print(f\"Updating {package['name']}...\")\n",
    "        process = subprocess.Popen(['pip', 'install', '--upgrade', package['name']], stdout=subprocess.PIPE, stderr=subprocess.PIPE)\n",
    "        \n",
    "        for line in process.stdout:\n",
    "            print(line.decode().strip())\n",
    "\n",
    "    print(\"All outdated packages have been updated.\")\n"
   ]
  }
 ],
 "metadata": {
  "kernelspec": {
   "display_name": "Python 3",
   "language": "python",
   "name": "python3"
  },
  "language_info": {
   "codemirror_mode": {
    "name": "ipython",
    "version": 3
   },
   "file_extension": ".py",
   "mimetype": "text/x-python",
   "name": "python",
   "nbconvert_exporter": "python",
   "pygments_lexer": "ipython3",
   "version": "3.13.0"
  }
 },
 "nbformat": 4,
 "nbformat_minor": 2
}
