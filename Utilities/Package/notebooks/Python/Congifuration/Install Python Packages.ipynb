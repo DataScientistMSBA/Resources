{
 "cells": [
  {
   "cell_type": "code",
   "execution_count": 3,
   "metadata": {},
   "outputs": [],
   "source": [
    "import tkinter as tk\n",
    "from tkinter import messagebox\n",
    "import subprocess\n",
    "\n",
    "# List of packages\n",
    "packages = sorted(['beautifulsoup4', 'lxml', 'html5lib'])\n",
    "\n",
    "def package_installer():\n",
    "    def install_packages():\n",
    "        selected_packages = [pkg for pkg, var in zip(packages, variables) if var.get()]\n",
    "        if selected_packages:\n",
    "            for package in selected_packages:\n",
    "                subprocess.run(['pip', 'install', package])\n",
    "            messagebox.showinfo(\"Installation\", f\"Installed: {', '.join(selected_packages)}\")\n",
    "            root.destroy()  # Close the window after installation\n",
    "        else:\n",
    "            messagebox.showwarning(\"No Selection\", \"No packages selected\")\n",
    "\n",
    "    def toggle_install_button(*args):\n",
    "        selected = any(var.get() for var in variables)\n",
    "        install_button.config(state=tk.NORMAL if selected else tk.DISABLED)\n",
    "\n",
    "    # Create the main window\n",
    "    root = tk.Tk()\n",
    "    root.title(\"Package Installer\")\n",
    "\n",
    "    # Create a frame to hold the checkbuttons\n",
    "    frame = tk.Frame(root)\n",
    "    frame.pack(padx=10, pady=10)\n",
    "\n",
    "    # Create a list to hold IntVar objects\n",
    "    variables = [tk.IntVar() for _ in packages]\n",
    "\n",
    "    # Create toggle buttons for each package\n",
    "    for i, package in enumerate(packages):\n",
    "        row, col = divmod(i, 5)\n",
    "        checkbutton = tk.Checkbutton(frame, text=package, variable=variables[i], command=toggle_install_button)\n",
    "        checkbutton.grid(row=row, column=col, sticky='w')\n",
    "\n",
    "    # Create the install button and disable it initially\n",
    "    install_button = tk.Button(root, text=\"Install\", state=tk.DISABLED, command=install_packages)\n",
    "    install_button.pack(pady=10)\n",
    "\n",
    "    # Start the application\n",
    "    root.mainloop()\n",
    "\n",
    "# Call the function whenever needed\n",
    "package_installer()\n"
   ]
  }
 ],
 "metadata": {
  "kernelspec": {
   "display_name": "Python 3",
   "language": "python",
   "name": "python3"
  },
  "language_info": {
   "codemirror_mode": {
    "name": "ipython",
    "version": 3
   },
   "file_extension": ".py",
   "mimetype": "text/x-python",
   "name": "python",
   "nbconvert_exporter": "python",
   "pygments_lexer": "ipython3",
   "version": "3.13.0"
  }
 },
 "nbformat": 4,
 "nbformat_minor": 2
}
