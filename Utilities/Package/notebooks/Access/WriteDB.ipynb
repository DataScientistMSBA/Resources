{
 "cells": [
  {
   "cell_type": "markdown",
   "metadata": {},
   "source": [
    "# Function"
   ]
  },
  {
   "cell_type": "code",
   "execution_count": 2,
   "metadata": {},
   "outputs": [],
   "source": [
    "def WriteDB(data, output_path, sep=',', filetype='CSV'):\n",
    "    \"\"\"\n",
    "    Writes a DataFrame to a specified file format.\n",
    "\n",
    "    Parameters:\n",
    "        data (DataFrame): The DataFrame to write.\n",
    "        output_path (str): The file path to write the data to.\n",
    "        sep (str): The separator to use for CSV files (default is ',').\n",
    "        filetype (str): The file format to write (options: 'CSV', 'XLSX', 'XML', 'JSON', 'Parquet').\n",
    "\n",
    "    Returns:\n",
    "        bool: True if the file is written successfully, False otherwise.\n",
    "    \"\"\"\n",
    "    try:\n",
    "        # Determine file type and write accordingly\n",
    "        if filetype.upper() == 'CSV':\n",
    "            data.to_csv(output_path, sep=sep, index=False)\n",
    "        elif filetype.upper() == 'XLSX':\n",
    "            data.to_excel(output_path, index=False)\n",
    "        elif filetype.upper() == 'XML':\n",
    "            data.to_xml(output_path, index=False)\n",
    "        elif filetype.upper() == 'JSON':\n",
    "            data.to_json(output_path, orient='records', indent=4)\n",
    "        elif filetype.upper() == 'PARQUET':\n",
    "            data.to_parquet(output_path, index=False)\n",
    "        else:\n",
    "            print(\"Unsupported file type. Please choose from 'CSV', 'XLSX', 'XML', 'JSON', or 'Parquet'.\")\n",
    "            return False\n",
    "        print(f\"File written successfully to {output_path}\")\n",
    "        return True\n",
    "    except Exception as e:\n",
    "        print(\"An error occurred while writing the file:\", e)\n",
    "        return False\n"
   ]
  },
  {
   "cell_type": "markdown",
   "metadata": {},
   "source": [
    "# Examples"
   ]
  },
  {
   "cell_type": "code",
   "execution_count": 3,
   "metadata": {},
   "outputs": [],
   "source": [
    "# # Example DataFrame\n",
    "# # Sample data for the DataFrame\n",
    "# data = {\n",
    "#     'Name': ['Alice', 'Bob', 'Charlie'],\n",
    "#     'Age': [24, 30, 22],\n",
    "#     'City': ['New York', 'Los Angeles', 'Chicago']\n",
    "# }\n",
    "# df = pd.DataFrame(data)"
   ]
  },
  {
   "cell_type": "markdown",
   "metadata": {},
   "source": [
    "## CSV"
   ]
  },
  {
   "cell_type": "code",
   "execution_count": 6,
   "metadata": {},
   "outputs": [
    {
     "name": "stdout",
     "output_type": "stream",
     "text": [
      "File written successfully to ../../../Datasets/Testing/test_csv.csv\n"
     ]
    },
    {
     "data": {
      "text/plain": [
       "True"
      ]
     },
     "execution_count": 6,
     "metadata": {},
     "output_type": "execute_result"
    }
   ],
   "source": [
    "# WriteDB(df, '../../../Datasets/Testing/test_csv.csv', sep=',', filetype='CSV')"
   ]
  },
  {
   "cell_type": "markdown",
   "metadata": {},
   "source": [
    "## XLSX"
   ]
  },
  {
   "cell_type": "code",
   "execution_count": 7,
   "metadata": {},
   "outputs": [
    {
     "name": "stdout",
     "output_type": "stream",
     "text": [
      "File written successfully to ../../../Datasets/Testing/test_xlsx.xlsx\n"
     ]
    },
    {
     "data": {
      "text/plain": [
       "True"
      ]
     },
     "execution_count": 7,
     "metadata": {},
     "output_type": "execute_result"
    }
   ],
   "source": [
    "# WriteDB(df, '../../../Datasets/Testing/test_xlsx.xlsx', sep=',', filetype='XLSX')"
   ]
  },
  {
   "cell_type": "markdown",
   "metadata": {},
   "source": [
    "## PARQUET"
   ]
  },
  {
   "cell_type": "code",
   "execution_count": 8,
   "metadata": {},
   "outputs": [
    {
     "name": "stdout",
     "output_type": "stream",
     "text": [
      "File written successfully to ../../../Datasets/Testing/test_parquet.parquet\n"
     ]
    },
    {
     "data": {
      "text/plain": [
       "True"
      ]
     },
     "execution_count": 8,
     "metadata": {},
     "output_type": "execute_result"
    }
   ],
   "source": [
    "# WriteDB(df, '../../../Datasets/Testing/test_parquet.parquet', sep=',', filetype='PARQUET')"
   ]
  },
  {
   "cell_type": "markdown",
   "metadata": {},
   "source": [
    "\n",
    "## JSON"
   ]
  },
  {
   "cell_type": "code",
   "execution_count": 9,
   "metadata": {},
   "outputs": [
    {
     "name": "stdout",
     "output_type": "stream",
     "text": [
      "File written successfully to ../../../Datasets/Testing/test_json.json\n"
     ]
    },
    {
     "data": {
      "text/plain": [
       "True"
      ]
     },
     "execution_count": 9,
     "metadata": {},
     "output_type": "execute_result"
    }
   ],
   "source": [
    "# WriteDB(df, '../../../Datasets/Testing/test_json.json', sep=',', filetype='JSON')"
   ]
  },
  {
   "cell_type": "markdown",
   "metadata": {},
   "source": [
    "## XML"
   ]
  },
  {
   "cell_type": "code",
   "execution_count": 10,
   "metadata": {},
   "outputs": [
    {
     "name": "stdout",
     "output_type": "stream",
     "text": [
      "File written successfully to ../../../Datasets/Testing/test_xml.xml\n"
     ]
    },
    {
     "data": {
      "text/plain": [
       "True"
      ]
     },
     "execution_count": 10,
     "metadata": {},
     "output_type": "execute_result"
    }
   ],
   "source": [
    "# WriteDB(df, '../../../Datasets/Testing/test_xml.xml', sep=',', filetype='XML')"
   ]
  }
 ],
 "metadata": {
  "kernelspec": {
   "display_name": "Python 3",
   "language": "python",
   "name": "python3"
  },
  "language_info": {
   "codemirror_mode": {
    "name": "ipython",
    "version": 3
   },
   "file_extension": ".py",
   "mimetype": "text/x-python",
   "name": "python",
   "nbconvert_exporter": "python",
   "pygments_lexer": "ipython3",
   "version": "3.13.0"
  }
 },
 "nbformat": 4,
 "nbformat_minor": 2
}
